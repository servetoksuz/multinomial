{
 "cells": [
  {
   "cell_type": "markdown",
   "id": "e2acacba",
   "metadata": {},
   "source": [
    "## Multinomial Distributions"
   ]
  },
  {
   "cell_type": "markdown",
   "id": "38b458c2",
   "metadata": {},
   "source": [
    "### 1. Let's define some basics"
   ]
  },
  {
   "cell_type": "code",
   "execution_count": 339,
   "id": "1526db79",
   "metadata": {},
   "outputs": [],
   "source": [
    "def factorial (n):\n",
    "    '''Takes in a non-negative integer n and returns the factorial of n'''\n",
    "    factorial = 1\n",
    "    if n <0:\n",
    "        return str(n) + \" is not in the range\"\n",
    "    else:\n",
    "        for i in range(1,n+1):\n",
    "            factorial = factorial*i\n",
    "        return factorial"
   ]
  },
  {
   "cell_type": "code",
   "execution_count": 340,
   "id": "1cc9fa81",
   "metadata": {},
   "outputs": [],
   "source": [
    "def combination(p,r): #choose r-element subsets from p-element subsets\n",
    "    return factorial(p)//(factorial(r)*factorial(p-r))"
   ]
  },
  {
   "cell_type": "markdown",
   "id": "8b98d6be",
   "metadata": {},
   "source": [
    "In regular combinations, we assume the probability of choosing or not chosing are the same. What about the cases where to choose and not to choose are not the same. For example, in a 4-choice multiple choice test, in how many ways we can select 8 correct answers from 10 questions?"
   ]
  },
  {
   "cell_type": "code",
   "execution_count": 341,
   "id": "041d5496",
   "metadata": {},
   "outputs": [],
   "source": [
    "def comb_a_b(a,b,p,r): \n",
    "    '''a is the ways to choose the desired outcome \n",
    "    b is the ways not to choose the desired outcome\n",
    "    p is the total number of selections\n",
    "    r is the number of the occurence of the desired outcome\n",
    "    '''\n",
    "    return a**r*b**(p-r)*factorial(p)//(factorial(r)*factorial(p-r))"
   ]
  },
  {
   "cell_type": "markdown",
   "id": "1906f6a1",
   "metadata": {},
   "source": [
    "If we try to answer the above question, a=1, b-=3, r=8, p = 10"
   ]
  },
  {
   "cell_type": "code",
   "execution_count": 342,
   "id": "6b2b7fdc",
   "metadata": {},
   "outputs": [
    {
     "name": "stdout",
     "output_type": "stream",
     "text": [
      "There are 405 ways to have 8 correct answers in a 10 questions test\n"
     ]
    }
   ],
   "source": [
    "print(\"There are {0} ways to have 8 correct answers in a 10 questions test\".format(comb_a_b(1,3,10,8)))"
   ]
  },
  {
   "cell_type": "markdown",
   "id": "e2f9dcb2",
   "metadata": {},
   "source": [
    "In both of the questions above, we assumed that we have binary outcomes, to be in the set or not to be in the set. What about the cases that we have ternary outcomes? Let's say we have 3 different colors of marbles in a jar and one from each color and we select n marbles with replacement. How many different ways we have r1 numbers of color 1, r2 numbers of color 2? We can see that there will be n-r1-r2 numbers of color 3, that we do not need to define an r3 variable."
   ]
  },
  {
   "cell_type": "code",
   "execution_count": 343,
   "id": "960763d2",
   "metadata": {},
   "outputs": [],
   "source": [
    "def comb3(n,r1,r2):\n",
    "    '''n is the number of elements we choose from\n",
    "    r1 is the number of elements in the first subset\n",
    "    r2 is the number of elements in the second subset'''\n",
    "    return factorial(n)//(factorial(r1)*factorial(r2)*factorial(n-r1-r2))"
   ]
  },
  {
   "cell_type": "markdown",
   "id": "c62b9ad4",
   "metadata": {},
   "source": [
    "Let's try this function to answer the question. In how many different ways we can select 2 senate members and 3 house members from a class of 10 people given that any student cannot hold two roles. "
   ]
  },
  {
   "cell_type": "code",
   "execution_count": 344,
   "id": "ef34a7ce",
   "metadata": {},
   "outputs": [
    {
     "data": {
      "text/plain": [
       "2520"
      ]
     },
     "execution_count": 344,
     "metadata": {},
     "output_type": "execute_result"
    }
   ],
   "source": [
    "# n=10, r1 = 2, r2 = 3\n",
    "comb3(10,2,3)"
   ]
  },
  {
   "cell_type": "markdown",
   "id": "c34bd53a",
   "metadata": {},
   "source": [
    "We can try a similar formula for choosing 4 mutually exclusive subsets from a set and define comb4 function as:"
   ]
  },
  {
   "cell_type": "code",
   "execution_count": 345,
   "id": "ae5b5190",
   "metadata": {},
   "outputs": [],
   "source": [
    "def comb4(n,r1,r2,r3):\n",
    "    '''n is the number of elements we choose from\n",
    "    r1 is the number of elements in the first subset\n",
    "    r2 is the number of elements in the second subset\n",
    "    r3 is the number of elements in the third subset'''\n",
    "    return factorial(n)//(factorial(r1)*factorial(r2)*factorial(r2)*factorial(n-r1-r2-r3))"
   ]
  },
  {
   "cell_type": "markdown",
   "id": "56633f26",
   "metadata": {},
   "source": [
    "Let's try when n=9, r1=2, r2=1, r3=3"
   ]
  },
  {
   "cell_type": "code",
   "execution_count": 346,
   "id": "f2ebe129",
   "metadata": {
    "scrolled": true
   },
   "outputs": [
    {
     "data": {
      "text/plain": [
       "30240"
      ]
     },
     "execution_count": 346,
     "metadata": {},
     "output_type": "execute_result"
    }
   ],
   "source": [
    "comb4(9,2,1,3)"
   ]
  },
  {
   "cell_type": "markdown",
   "id": "d37cea25",
   "metadata": {},
   "source": [
    "Now, we can generalize the definition as choosing r-mutually exclusine subsets from a set with n-elements. Firstly we can define a vector of size r-1 that has the number of occurences we want for each element. Let's name the function as combvec:"
   ]
  },
  {
   "cell_type": "code",
   "execution_count": 347,
   "id": "14995ae2",
   "metadata": {},
   "outputs": [],
   "source": [
    "import numpy as np\n",
    "def combvec(n,avec):\n",
    "    '''n is the size of the set we are choosing from\n",
    "    avec is the vector of size r-1'''\n",
    "    if n<np.sum(avec):\n",
    "        return \"combvec cannot be defined\"\n",
    "    else:\n",
    "        result = factorial(n)\n",
    "        remainder = n\n",
    "        for i in list(avec):\n",
    "            result = result//factorial(i)\n",
    "            remainder-=i\n",
    "        return result//factorial(remainder)"
   ]
  },
  {
   "cell_type": "markdown",
   "id": "d5a0b546",
   "metadata": {},
   "source": [
    "Let's try an example:"
   ]
  },
  {
   "cell_type": "code",
   "execution_count": 348,
   "id": "6d9db9fe",
   "metadata": {},
   "outputs": [
    {
     "data": {
      "text/plain": [
       "277200"
      ]
     },
     "execution_count": 348,
     "metadata": {},
     "output_type": "execute_result"
    }
   ],
   "source": [
    "avec = np.array([1,2,3,3,2])\n",
    "combvec(11, avec)"
   ]
  },
  {
   "cell_type": "markdown",
   "id": "6dcdef73",
   "metadata": {},
   "source": [
    "## 2. Can we make new triangles similar to Pascal Triangle?"
   ]
  },
  {
   "cell_type": "markdown",
   "id": "56038add",
   "metadata": {},
   "source": [
    "Let's start with defining a Pascal triangle with n-rows:"
   ]
  },
  {
   "cell_type": "code",
   "execution_count": 349,
   "id": "1d70a38a",
   "metadata": {},
   "outputs": [],
   "source": [
    "def Pascal(n): #n is the size of the Pascal's triangle\n",
    "    for i in range(n+1):\n",
    "        row_list = []\n",
    "        for j in range(i+1):\n",
    "            row_list.append(combination(i,j))\n",
    "        print(row_list)"
   ]
  },
  {
   "cell_type": "markdown",
   "id": "8b378398",
   "metadata": {},
   "source": [
    "Here is an example of Pascal's triangle with size 5"
   ]
  },
  {
   "cell_type": "code",
   "execution_count": 350,
   "id": "278092b0",
   "metadata": {},
   "outputs": [
    {
     "name": "stdout",
     "output_type": "stream",
     "text": [
      "[1]\n",
      "[1, 1]\n",
      "[1, 2, 1]\n",
      "[1, 3, 3, 1]\n",
      "[1, 4, 6, 4, 1]\n",
      "[1, 5, 10, 10, 5, 1]\n"
     ]
    }
   ],
   "source": [
    "Pascal(5)"
   ]
  },
  {
   "cell_type": "markdown",
   "id": "310a4235",
   "metadata": {},
   "source": [
    "Now, we will generate a triangle, where there are a-ways to be chosen, b-ways not to be chosen as:"
   ]
  },
  {
   "cell_type": "code",
   "execution_count": 351,
   "id": "7467ed3f",
   "metadata": {},
   "outputs": [],
   "source": [
    "def Pascal_a_b(n,a,b):\n",
    "    for i in range(n+1):\n",
    "        row_list = []\n",
    "        for j in range(i+1):\n",
    "            row_list.append(comb_a_b(a,b,i,j))\n",
    "        print(row_list)"
   ]
  },
  {
   "cell_type": "markdown",
   "id": "3f18b2f6",
   "metadata": {},
   "source": [
    "Let's try an example where $a=2, b=1$ and $n=5$"
   ]
  },
  {
   "cell_type": "code",
   "execution_count": 352,
   "id": "d9133977",
   "metadata": {
    "scrolled": true
   },
   "outputs": [
    {
     "name": "stdout",
     "output_type": "stream",
     "text": [
      "[1]\n",
      "[1, 2]\n",
      "[1, 4, 4]\n",
      "[1, 6, 12, 8]\n",
      "[1, 8, 24, 32, 16]\n",
      "[1, 10, 40, 80, 80, 32]\n"
     ]
    }
   ],
   "source": [
    "Pascal_a_b(5,2,1)"
   ]
  },
  {
   "cell_type": "markdown",
   "id": "d0c56be8",
   "metadata": {},
   "source": [
    "Not surprisingly each row addition is equal to $(a+b)^i$, where $i$ is the row index and row indices are starting from 0. Now, we will try to make a 3-dimensional Pascal's triangle by using comb3 function."
   ]
  },
  {
   "cell_type": "code",
   "execution_count": 353,
   "id": "10fd42c3",
   "metadata": {},
   "outputs": [],
   "source": [
    "def Pascal3(n):\n",
    "    for i in range(n+1):\n",
    "        row_list = []\n",
    "        for j in range(i+1):\n",
    "            row_list.append(comb3(n,(n-i),j))\n",
    "        print(row_list)"
   ]
  },
  {
   "cell_type": "code",
   "execution_count": 354,
   "id": "f5b4b9a6",
   "metadata": {
    "scrolled": false
   },
   "outputs": [
    {
     "name": "stdout",
     "output_type": "stream",
     "text": [
      "[1]\n",
      "[6, 6]\n",
      "[15, 30, 15]\n",
      "[20, 60, 60, 20]\n",
      "[15, 60, 90, 60, 15]\n",
      "[6, 30, 60, 60, 30, 6]\n",
      "[1, 6, 15, 20, 15, 6, 1]\n"
     ]
    }
   ],
   "source": [
    "Pascal3(6)"
   ]
  },
  {
   "cell_type": "markdown",
   "id": "6e0af40f",
   "metadata": {},
   "source": [
    "The above example finds the 6th layer of the 3-dimensional object that all three subsets are equally likely to be chosen. Not surprisingly, the sum of nth layers are always $3^n$. Let's think about the cases where three subsets have some weights as w1, w2, and w3. We need to tweak comb3 function to satisfy this setting:"
   ]
  },
  {
   "cell_type": "code",
   "execution_count": 355,
   "id": "a1014b47",
   "metadata": {},
   "outputs": [],
   "source": [
    "def comb3_w(n,r1,r2,w1,w2,w3):\n",
    "    '''n is the number of elements we choose from\n",
    "    r1 is the number of elements in the first subset\n",
    "    r2 is the number of elements in the second subset\n",
    "    w1 is the weight of r1\n",
    "    w2 is the weight of r2\n",
    "    w3 is the weight of n-r1-r3'''\n",
    "    return w1**r1*w2**r2*w3**(n-r1-r2)*comb3(n,r1,r2)"
   ]
  },
  {
   "cell_type": "code",
   "execution_count": 356,
   "id": "7021d3f2",
   "metadata": {},
   "outputs": [],
   "source": [
    "def Pascal3_w(n,w1,w2,w3):\n",
    "    for i in range(n+1):\n",
    "        row_list = []\n",
    "        for j in range(i+1):\n",
    "            row_list.append(comb3_w(n,(n-i),j,w1,w2,w3))\n",
    "        print(row_list)"
   ]
  },
  {
   "cell_type": "code",
   "execution_count": 357,
   "id": "57699538",
   "metadata": {
    "scrolled": false
   },
   "outputs": [
    {
     "name": "stdout",
     "output_type": "stream",
     "text": [
      "[1]\n",
      "[9, 6]\n",
      "[27, 36, 12]\n",
      "[27, 54, 36, 8]\n"
     ]
    }
   ],
   "source": [
    "Pascal3_w(3,1,2,3)"
   ]
  },
  {
   "cell_type": "markdown",
   "id": "cf281d56",
   "metadata": {},
   "source": [
    "We can observe that the sum of the numbers in $n^{th}$ layer of Pascal3_w function is always $(w1+w2+w3)^n$"
   ]
  },
  {
   "cell_type": "markdown",
   "id": "41b45e54",
   "metadata": {},
   "source": [
    "For nonnegative w1, w2 and w3 where w1+w2+w3 = 1, comb3_p function can be used to define a trinomial distribution. In this case, let's rename w1 as p1 and w2 as p2 since these numbers represent probabilities. We do not need to define p3, since the probability of the third category will be automatically $1-p1-p2$."
   ]
  },
  {
   "cell_type": "code",
   "execution_count": 358,
   "id": "772b18a5",
   "metadata": {},
   "outputs": [],
   "source": [
    "def comb3_p(n,r1,r2,p1,p2):\n",
    "    '''n is the number of elements we choose from\n",
    "    r1 is the number of elements in the first subset\n",
    "    r2 is the number of elements in the second subset\n",
    "    p1 is the weight of r1\n",
    "    p2 is the weight of r2'''\n",
    "    return p1**r1*p2**r2*(1-p1-p2)**(n-r1-r2)*comb3(n,r1,r2) \n",
    "# This time we use float division instead of integer division to make sure to have float answers"
   ]
  },
  {
   "cell_type": "code",
   "execution_count": 359,
   "id": "f78b7779",
   "metadata": {},
   "outputs": [],
   "source": [
    "def Pascal3_p(n,p1,p2):\n",
    "    for i in range(n+1):\n",
    "        row_list = []\n",
    "        for j in range(i+1):\n",
    "            row_list.append(round(comb3_p(n,(n-i),j,p1,p2),15)) # Python goes weird in 16th digit\n",
    "        print(row_list)"
   ]
  },
  {
   "cell_type": "code",
   "execution_count": 360,
   "id": "239a1799",
   "metadata": {
    "scrolled": true
   },
   "outputs": [
    {
     "name": "stdout",
     "output_type": "stream",
     "text": [
      "[0.008]\n",
      "[0.048, 0.048]\n",
      "[0.096, 0.192, 0.096]\n",
      "[0.064, 0.192, 0.192, 0.064]\n"
     ]
    }
   ],
   "source": [
    "Pascal3_p(3,0.2,0.4)"
   ]
  },
  {
   "cell_type": "markdown",
   "id": "ec1bd047",
   "metadata": {},
   "source": [
    "Let's answer the following question: The probabilities of a soccer team to win is 0.5 and probability of lose is 0.3 and the probability tie is 0.2. Let's assume the results of the games are independent. What is the probability of this team having 7 wins, 2 lose and 1 tie?"
   ]
  },
  {
   "cell_type": "code",
   "execution_count": 361,
   "id": "40bc5890",
   "metadata": {},
   "outputs": [
    {
     "data": {
      "text/plain": [
       "0.050624999999999996"
      ]
     },
     "execution_count": 361,
     "metadata": {},
     "output_type": "execute_result"
    }
   ],
   "source": [
    "# We need to use comb3_p function with $n=10, r1=7, r2=2, p1=0.5$ and $p2=0.3$\n",
    "comb3_p(10,7,2,0.5,0.3)"
   ]
  },
  {
   "cell_type": "markdown",
   "id": "c70e3190",
   "metadata": {},
   "source": [
    "Now, let's question whether these outcomes are good fit for our model. We need to perform a chi-square goodness of fit test"
   ]
  },
  {
   "cell_type": "code",
   "execution_count": 362,
   "id": "7a2785b4",
   "metadata": {},
   "outputs": [],
   "source": [
    "# importing packages \n",
    "import scipy.stats as stats \n",
    "\n",
    "def gof3(n,r1,r2,p1,p2):\n",
    "    observed_data = [r1,r2,n-r1-r2] \n",
    "    expected_data = [n*p1,n*p2,n*(1-p1-p2)] \n",
    "    print(observed_data)\n",
    "    print(expected_data)\n",
    "  \n",
    "  \n",
    "    # Chi-Square Goodness of Fit Test \n",
    "    chi_square_test_statistic, p_value = stats.chisquare( \n",
    "    observed_data, expected_data) \n",
    "  \n",
    "    # chi square test statistic and p value \n",
    "    print('chi_square_test_statistic is : ' +\n",
    "      str(chi_square_test_statistic)) \n",
    "    print('p_value : ' + str(p_value)) \n",
    "  "
   ]
  },
  {
   "cell_type": "code",
   "execution_count": 363,
   "id": "610c7536",
   "metadata": {
    "scrolled": true
   },
   "outputs": [
    {
     "name": "stdout",
     "output_type": "stream",
     "text": [
      "[7, 2, 1]\n",
      "[5.0, 3.0, 2.0]\n",
      "chi_square_test_statistic is : 1.6333333333333333\n",
      "p_value : 0.4419022095845254\n"
     ]
    }
   ],
   "source": [
    "# Let's test the goodness of fit for the example above:\n",
    "gof3(10,7,2,0.5,0.3)"
   ]
  },
  {
   "cell_type": "markdown",
   "id": "e88df10b",
   "metadata": {},
   "source": [
    "Now, we can generalize our comb3_p function to find the probabilities for any multinomial probability distributions:"
   ]
  },
  {
   "cell_type": "code",
   "execution_count": 364,
   "id": "f9658a82",
   "metadata": {},
   "outputs": [],
   "source": [
    "def combvec(n,avec, pvec): \n",
    "    '''n is the size of the set we are choosing from\n",
    "    avec is the observation vector of size r-1\n",
    "    pvec is the probability vector of size r-1'''\n",
    "    if n<np.sum(avec) or 1<np.sum(pvec):\n",
    "        return \"combvec cannot be defined\"\n",
    "    else:\n",
    "        result = factorial(n)\n",
    "        remainder = n\n",
    "        coef = 1\n",
    "        list_a = list(avec)\n",
    "        list_p = list(pvec)\n",
    "        for i in range(len(list_a)):\n",
    "            result = result/factorial(list_a[i])\n",
    "            remainder-=i\n",
    "            coef = coef*list_p[i]**list_a[i]\n",
    "        return coef * result/factorial(remainder)"
   ]
  },
  {
   "cell_type": "code",
   "execution_count": 365,
   "id": "38954087",
   "metadata": {},
   "outputs": [
    {
     "data": {
      "text/plain": [
       "0.375"
      ]
     },
     "execution_count": 365,
     "metadata": {},
     "output_type": "execute_result"
    }
   ],
   "source": [
    "avec = np.array([1,1,1])\n",
    "pvec = np.array([0.25,0.25,0.25])\n",
    "combvec(4,avec, pvec)"
   ]
  },
  {
   "cell_type": "markdown",
   "id": "19f4896c",
   "metadata": {},
   "source": [
    "Now we can define goodness of fit for avec and pvec as:"
   ]
  },
  {
   "cell_type": "code",
   "execution_count": 366,
   "id": "7a7f01c6",
   "metadata": {},
   "outputs": [],
   "source": [
    "def gofvec(n,avec, pvec):\n",
    "    observed_data = list(np.append(avec,np.array([n-np.sum(avec)])))\n",
    "    expected_data = list(n*np.append(pvec,np.array([1-np.sum(pvec)])))\n",
    "    print(expected_data)\n",
    "    print(observed_data)\n",
    "  \n",
    "    # Chi-Square Goodness of Fit Test \n",
    "    chi_square_test_statistic, p_value = stats.chisquare( \n",
    "    observed_data, expected_data) \n",
    "  \n",
    "    # chi square test statistic and p value \n",
    "    print('chi_square_test_statistic is : ' +\n",
    "      str(chi_square_test_statistic)) \n",
    "    print('p_value : ' + str(p_value)) "
   ]
  },
  {
   "cell_type": "code",
   "execution_count": 367,
   "id": "3baa25c8",
   "metadata": {},
   "outputs": [
    {
     "name": "stdout",
     "output_type": "stream",
     "text": [
      "[1.0, 1.0, 1.0, 1.0]\n",
      "[1, 1, 1, 1]\n",
      "chi_square_test_statistic is : 0.0\n",
      "p_value : 1.0\n"
     ]
    }
   ],
   "source": [
    "gofvec(4,avec, pvec)"
   ]
  },
  {
   "cell_type": "markdown",
   "id": "a378718a",
   "metadata": {},
   "source": [
    "## 3.Define pdf and standard deviation"
   ]
  },
  {
   "cell_type": "code",
   "execution_count": 368,
   "id": "56f1198b",
   "metadata": {},
   "outputs": [],
   "source": [
    "def binomial_pdf(n,r,p):\n",
    "    # the point probability of choosing r success when \n",
    "    if p>1 or p<0:\n",
    "        return \"probability is not in the range\"\n",
    "    else:\n",
    "        return combination(n,r)*p**r*(1-p)**(n-r)"
   ]
  },
  {
   "cell_type": "code",
   "execution_count": 369,
   "id": "08a1b45c",
   "metadata": {},
   "outputs": [],
   "source": [
    "def trinomial_pdf(n,r1,r2,p1,p2):\n",
    "  if p1>1 or p1<0 or p2>1 or p2<0 or p1+p2>1:\n",
    "    return \"probability is not in the range\"\n",
    "  else:\n",
    "    return comb3(n,r1,r2)*p1**r1*p2**r2*(1-p1-p2)**(n-r1-r2)"
   ]
  },
  {
   "cell_type": "code",
   "execution_count": 370,
   "id": "4b0c9e07",
   "metadata": {},
   "outputs": [],
   "source": [
    "def quadrinomial_pdf(n,r1,r2,r3,p1,p2,p3):\n",
    "  if p1<0 or p2<0 or p3<0 or p1+p2+p3>1:\n",
    "    return \"probability is not in the range\"\n",
    "  else:\n",
    "    return comb4(n,r1,r2,r3)*p1**r1*p2**r2*p3**r3*(1-p1-p2-p3)**(n-r1-r2-r3)"
   ]
  },
  {
   "cell_type": "code",
   "execution_count": 371,
   "id": "90af8a2e",
   "metadata": {},
   "outputs": [
    {
     "data": {
      "text/plain": [
       "0.09375"
      ]
     },
     "execution_count": 371,
     "metadata": {},
     "output_type": "execute_result"
    }
   ],
   "source": [
    "quadrinomial_pdf(4,1,1,1,0.25,0.25,0.25)"
   ]
  },
  {
   "cell_type": "code",
   "execution_count": 372,
   "id": "6dfc3271",
   "metadata": {},
   "outputs": [],
   "source": [
    "def binomial_cdf(n,lower,upper,p):\n",
    "    binomial_cdf = 0\n",
    "    for i in range(lower,upper+1):\n",
    "        binomial_cdf = binomial_cdf + binomial_pdf(n,i,p)\n",
    "    return binomial_cdf"
   ]
  },
  {
   "cell_type": "markdown",
   "id": "d42f68c8",
   "metadata": {},
   "source": [
    "## 4. Standard deviation and z-score"
   ]
  },
  {
   "cell_type": "markdown",
   "id": "92a58f66",
   "metadata": {},
   "source": [
    "We can start by defining a standard deviation in a regular binomial distribution as:"
   ]
  },
  {
   "cell_type": "code",
   "execution_count": 373,
   "id": "211d39b8",
   "metadata": {},
   "outputs": [],
   "source": [
    "def binomial_std(n,p):\n",
    "    '''n is the sample size and p is the probability of success'''\n",
    "    return ((n*p)*(1-p))**(1/2)"
   ]
  },
  {
   "cell_type": "code",
   "execution_count": 374,
   "id": "6ea8a986",
   "metadata": {},
   "outputs": [],
   "source": [
    "def z2_score(x,n,p):\n",
    "    '''How far is x from the mean'''\n",
    "    return (x-n*p)/binomial_std(n,p)"
   ]
  },
  {
   "cell_type": "markdown",
   "id": "efb32579",
   "metadata": {},
   "source": [
    "Now, try to find the distance of an observation from the mean in a trinomial distribution. First, we need to define the standard deviation"
   ]
  },
  {
   "cell_type": "code",
   "execution_count": 412,
   "id": "c9e44948",
   "metadata": {},
   "outputs": [
    {
     "name": "stdout",
     "output_type": "stream",
     "text": [
      "[0, 0, 3]\n",
      "[1.0, 1.0, 1.0000000000000002]\n",
      "chi_square_test_statistic is : 5.999999999999998\n",
      "p_value : 0.049787068367863986\n"
     ]
    }
   ],
   "source": [
    "gof3(3,0,0,1/3,1/3)"
   ]
  },
  {
   "cell_type": "code",
   "execution_count": 375,
   "id": "5af56ddf",
   "metadata": {},
   "outputs": [],
   "source": [
    "def std_dev3(n,p,r):\n",
    "    return 3*(n*p*r*(1-p-r))**(1/2)"
   ]
  },
  {
   "cell_type": "code",
   "execution_count": 376,
   "id": "9e66d87e",
   "metadata": {},
   "outputs": [],
   "source": [
    "def z3_score(x,y,n,p,r):\n",
    "    return ((((x-n*p)/std_dev3(n,p,r))**2 + ((y-n*r)/std_dev3(n,p,r))**2 + ((n-x-y-n*(1-p-r))/std_dev3(n,p,r))**2)/2)**(1/2)"
   ]
  },
  {
   "cell_type": "code",
   "execution_count": 377,
   "id": "04ba0c2c",
   "metadata": {},
   "outputs": [],
   "source": [
    "def std_dev4(n,p1,p2,p3):\n",
    "    return (96*n*p1*p2*p3*(1-p1-p2-p3))**(1/2)"
   ]
  },
  {
   "cell_type": "code",
   "execution_count": 378,
   "id": "0d462e35",
   "metadata": {},
   "outputs": [
    {
     "data": {
      "text/plain": [
       "0.6123724356957945"
      ]
     },
     "execution_count": 378,
     "metadata": {},
     "output_type": "execute_result"
    }
   ],
   "source": [
    "std_dev4(1,0.25,0.25,0.25)"
   ]
  },
  {
   "cell_type": "code",
   "execution_count": 379,
   "id": "ff4c68f4",
   "metadata": {},
   "outputs": [
    {
     "data": {
      "text/plain": [
       "0.37499999999999994"
      ]
     },
     "execution_count": 379,
     "metadata": {},
     "output_type": "execute_result"
    }
   ],
   "source": [
    "0.6123724356957945**2"
   ]
  },
  {
   "cell_type": "code",
   "execution_count": 380,
   "id": "083d940e",
   "metadata": {},
   "outputs": [],
   "source": [
    "import numpy as np\n",
    "def gauss(x,n):\n",
    "  return np.sqrt(2/n*np.pi)*np.exp(-2*x**2/n)"
   ]
  },
  {
   "cell_type": "code",
   "execution_count": 381,
   "id": "ca90ce2e",
   "metadata": {},
   "outputs": [
    {
     "data": {
      "text/plain": [
       "0.6520493321732922"
      ]
     },
     "execution_count": 381,
     "metadata": {},
     "output_type": "execute_result"
    }
   ],
   "source": [
    "gauss(1,2)"
   ]
  },
  {
   "cell_type": "code",
   "execution_count": 382,
   "id": "ed632a78",
   "metadata": {},
   "outputs": [
    {
     "name": "stdout",
     "output_type": "stream",
     "text": [
      "2.449489742783178\n"
     ]
    }
   ],
   "source": [
    "def z4_score(x,y,z,n,p,r,q):\n",
    "    return (((((x-n*p)/std_dev4(n,p,r,q))**2 + ((y-n*r)/std_dev4(n,p,r,q))**2 + ((z-n*q)/std_dev4(n,p,r,q))**2+((n-x-y-z-n*(1-p-q-r))/std_dev4(n,p,r,q))**2)/2)**(1/2))*std_dev4(n,p,r,q)\n",
    "print(z4_score(0,0,0,4,(1/4),(1/4),(1/4)))"
   ]
  },
  {
   "cell_type": "code",
   "execution_count": 383,
   "id": "82938598",
   "metadata": {},
   "outputs": [
    {
     "data": {
      "text/plain": [
       "0.6123724356957945"
      ]
     },
     "execution_count": 383,
     "metadata": {},
     "output_type": "execute_result"
    }
   ],
   "source": [
    "std_dev4(1,0.25,0.25,0.25)"
   ]
  },
  {
   "cell_type": "code",
   "execution_count": 384,
   "id": "59800d4a",
   "metadata": {},
   "outputs": [],
   "source": [
    "import numpy as np\n",
    "def normal(avec):\n",
    "  return avec/np.sum(avec)\n",
    "\n",
    "def distance(nvec, pvec):\n",
    "  return np.sqrt(np.sum(((pvec - nvec)**2)/2)) #why do you divide by two? I guess the distances between the unit vecors are sqrt(2) "
   ]
  },
  {
   "cell_type": "code",
   "execution_count": 385,
   "id": "8203c27d",
   "metadata": {},
   "outputs": [
    {
     "data": {
      "text/plain": [
       "0.6123724356957945"
      ]
     },
     "execution_count": 385,
     "metadata": {},
     "output_type": "execute_result"
    }
   ],
   "source": [
    "a = np.array([0.25,0.25,0.25,0.25])\n",
    "b = np.array([0,0,0,1])\n",
    "distance(a,b)"
   ]
  },
  {
   "cell_type": "code",
   "execution_count": 386,
   "id": "f2194fc3",
   "metadata": {},
   "outputs": [
    {
     "data": {
      "text/plain": [
       "array([0., 0., 0., 1.])"
      ]
     },
     "execution_count": 386,
     "metadata": {},
     "output_type": "execute_result"
    }
   ],
   "source": [
    "normal(b)"
   ]
  },
  {
   "cell_type": "code",
   "execution_count": 387,
   "id": "d9485767",
   "metadata": {},
   "outputs": [],
   "source": [
    "def vmean(avec):\n",
    "  return np.ones(np.size(avec))/np.sum(np.ones(np.size(avec)))"
   ]
  },
  {
   "cell_type": "code",
   "execution_count": 388,
   "id": "8b775bc9",
   "metadata": {},
   "outputs": [
    {
     "data": {
      "text/plain": [
       "array([0.25, 0.25, 0.25, 0.25])"
      ]
     },
     "execution_count": 388,
     "metadata": {},
     "output_type": "execute_result"
    }
   ],
   "source": [
    "vmean(b)"
   ]
  },
  {
   "cell_type": "code",
   "execution_count": 389,
   "id": "8cfdfe0a",
   "metadata": {},
   "outputs": [
    {
     "data": {
      "text/plain": [
       "array([1., 1., 1., 1.])"
      ]
     },
     "execution_count": 389,
     "metadata": {},
     "output_type": "execute_result"
    }
   ],
   "source": [
    "np.ones(np.size(b))"
   ]
  },
  {
   "cell_type": "code",
   "execution_count": 390,
   "id": "7a16f0a2",
   "metadata": {},
   "outputs": [],
   "source": [
    "def z_score(avec):\n",
    "    return distance(avec, np.sum(avec)*vmean(avec))"
   ]
  },
  {
   "cell_type": "code",
   "execution_count": 391,
   "id": "a275e5dc",
   "metadata": {},
   "outputs": [],
   "source": [
    "k = np.array([6,18])\n",
    "l = np.array([1,2,3])\n",
    "m = np.array([0,0,0,0,1])\n",
    "n = np.array([0,0,0,1])"
   ]
  },
  {
   "cell_type": "code",
   "execution_count": 392,
   "id": "e6c1ec17",
   "metadata": {},
   "outputs": [
    {
     "data": {
      "text/plain": [
       "0.6324555320336759"
      ]
     },
     "execution_count": 392,
     "metadata": {},
     "output_type": "execute_result"
    }
   ],
   "source": [
    "z_score(m)"
   ]
  },
  {
   "cell_type": "code",
   "execution_count": 393,
   "id": "d182e9f6",
   "metadata": {},
   "outputs": [
    {
     "data": {
      "text/plain": [
       "0.6123724356957945"
      ]
     },
     "execution_count": 393,
     "metadata": {},
     "output_type": "execute_result"
    }
   ],
   "source": [
    "z_score(n)"
   ]
  },
  {
   "cell_type": "code",
   "execution_count": 394,
   "id": "29551f2b",
   "metadata": {},
   "outputs": [
    {
     "data": {
      "text/plain": [
       "0.4"
      ]
     },
     "execution_count": 394,
     "metadata": {},
     "output_type": "execute_result"
    }
   ],
   "source": [
    "z_score(m)**2"
   ]
  },
  {
   "cell_type": "code",
   "execution_count": 395,
   "id": "a2426323",
   "metadata": {},
   "outputs": [],
   "source": [
    "def std_dev5(n,p1,p2,p3,p4):\n",
    "    return (1250*n*p1*p2*p3*p4*(1-p1-p2-p3-p4))**(1/2)"
   ]
  },
  {
   "cell_type": "code",
   "execution_count": 396,
   "id": "634fa58a",
   "metadata": {},
   "outputs": [
    {
     "data": {
      "text/plain": [
       "0.632455532033676"
      ]
     },
     "execution_count": 396,
     "metadata": {},
     "output_type": "execute_result"
    }
   ],
   "source": [
    "std_dev5(1,0.2,0.2,0.2,0.2)"
   ]
  },
  {
   "cell_type": "code",
   "execution_count": 397,
   "id": "48d51083",
   "metadata": {},
   "outputs": [],
   "source": [
    "def std_dev6(n,p1,p2,p3,p4,p5):\n",
    "    return (1250*n*p1*p2*p3*p4*p5*(1-p1-p2-p3-p4-p5))**(1/2)"
   ]
  },
  {
   "cell_type": "code",
   "execution_count": 398,
   "id": "18ada2ef",
   "metadata": {},
   "outputs": [],
   "source": [
    "m6 = np.array([0,0,0,0,0,1])"
   ]
  },
  {
   "cell_type": "code",
   "execution_count": 399,
   "id": "fc68f4b4",
   "metadata": {},
   "outputs": [
    {
     "data": {
      "text/plain": [
       "0.6454972243679029"
      ]
     },
     "execution_count": 399,
     "metadata": {},
     "output_type": "execute_result"
    }
   ],
   "source": [
    "z_score(m6)"
   ]
  },
  {
   "cell_type": "code",
   "execution_count": 400,
   "id": "15da46a9",
   "metadata": {},
   "outputs": [
    {
     "data": {
      "text/plain": [
       "0.4166666666666668"
      ]
     },
     "execution_count": 400,
     "metadata": {},
     "output_type": "execute_result"
    }
   ],
   "source": [
    "0.6454972243679029**2"
   ]
  },
  {
   "cell_type": "code",
   "execution_count": 401,
   "id": "b971feb1",
   "metadata": {},
   "outputs": [],
   "source": [
    "k2 = np.array([0,1])\n",
    "k3 = np.array([0,0,1])\n",
    "k4 = np.array([0,0,0,1])\n",
    "k5 = np.array([0,0,0,0,1])\n",
    "k6 = np.array([0,0,0,0,0,1])\n",
    "k7 = np.array([0,0,0,0,0,0,1])\n",
    "k8 = np.array([0,0,0,0,0,0,0,1])"
   ]
  },
  {
   "cell_type": "code",
   "execution_count": 402,
   "id": "ea73b60f",
   "metadata": {},
   "outputs": [
    {
     "data": {
      "text/plain": [
       "0.5"
      ]
     },
     "execution_count": 402,
     "metadata": {},
     "output_type": "execute_result"
    }
   ],
   "source": [
    "z_score(k2)"
   ]
  },
  {
   "cell_type": "code",
   "execution_count": 403,
   "id": "201e64a1",
   "metadata": {},
   "outputs": [
    {
     "data": {
      "text/plain": [
       "0.43750000000000006"
      ]
     },
     "execution_count": 403,
     "metadata": {},
     "output_type": "execute_result"
    }
   ],
   "source": [
    "z_score(k8)**2"
   ]
  },
  {
   "cell_type": "code",
   "execution_count": 404,
   "id": "893a42be",
   "metadata": {},
   "outputs": [
    {
     "data": {
      "text/plain": [
       "7.000000000000001"
      ]
     },
     "execution_count": 404,
     "metadata": {},
     "output_type": "execute_result"
    }
   ],
   "source": [
    "0.43750000000000006*16"
   ]
  },
  {
   "cell_type": "code",
   "execution_count": 405,
   "id": "b99f3ea5",
   "metadata": {},
   "outputs": [
    {
     "data": {
      "text/plain": [
       "0.3333333333333334"
      ]
     },
     "execution_count": 405,
     "metadata": {},
     "output_type": "execute_result"
    }
   ],
   "source": [
    "z_score(k3)**2"
   ]
  },
  {
   "cell_type": "code",
   "execution_count": 406,
   "id": "db444efe",
   "metadata": {},
   "outputs": [],
   "source": [
    "def std_dev6(n,p1,p2,p3,p4,p5):\n",
    "    return ((6**5)*(5/2)*n*p1*p2*p3*p4*p5*(1-p1-p2-p3-p4-p5))**(1/2)"
   ]
  },
  {
   "cell_type": "code",
   "execution_count": 407,
   "id": "36cc86c0",
   "metadata": {},
   "outputs": [
    {
     "data": {
      "text/plain": [
       "0.6454972243679031"
      ]
     },
     "execution_count": 407,
     "metadata": {},
     "output_type": "execute_result"
    }
   ],
   "source": [
    "std_dev6(1,1/6,1/6,1/6,1/6,1/6)"
   ]
  },
  {
   "cell_type": "code",
   "execution_count": 408,
   "id": "c1df5ada",
   "metadata": {},
   "outputs": [
    {
     "data": {
      "text/plain": [
       "0.6454972243679029"
      ]
     },
     "execution_count": 408,
     "metadata": {},
     "output_type": "execute_result"
    }
   ],
   "source": [
    "z_score(k6)"
   ]
  },
  {
   "cell_type": "code",
   "execution_count": null,
   "id": "693ff494",
   "metadata": {},
   "outputs": [],
   "source": [
    "#this code may not work\n",
    "#def st_devn(n,p1,p2,p3,p4,pn):\n",
    "#   return ((n**(n-1))*((n-1)/2)*p1*....)"
   ]
  }
 ],
 "metadata": {
  "kernelspec": {
   "display_name": "Python 3 (ipykernel)",
   "language": "python",
   "name": "python3"
  },
  "language_info": {
   "codemirror_mode": {
    "name": "ipython",
    "version": 3
   },
   "file_extension": ".py",
   "mimetype": "text/x-python",
   "name": "python",
   "nbconvert_exporter": "python",
   "pygments_lexer": "ipython3",
   "version": "3.9.12"
  }
 },
 "nbformat": 4,
 "nbformat_minor": 5
}
